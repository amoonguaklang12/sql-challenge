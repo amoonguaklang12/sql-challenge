{
 "cells": [
  {
   "cell_type": "code",
   "execution_count": 9,
   "id": "9e66fe1e-c20d-4b74-a52b-a9fcbfd1523f",
   "metadata": {},
   "outputs": [],
   "source": [
    "#import dependencies\n",
    "from sqlalchemy import create_engine\n",
    "import matplotlib.pyplot as plt\n",
    "import pandas as pd\n",
    "import numpy as np\n",
    "\n",
    "#postgres password\n",
    "from keys import pw\n",
    "\n",
    "#engine parameters\n",
    "dialect_driver = \"postgresql\"\n",
    "user = \"postgres\"\n",
    "host = \"localhost\"\n",
    "port = 5432\n",
    "default_db = \"sql-challenge\""
   ]
  },
  {
   "cell_type": "code",
   "execution_count": 2,
   "id": "2b1b3405-4dbb-4a1c-891f-31de69d4440e",
   "metadata": {},
   "outputs": [],
   "source": [
    "#setting up the dataframe\n",
    "df = pd.DataFrame({\"emp_no\":[], \"first_name\":[], \"last_name\":[], \"title\":[], \"salary\":[]})\n",
    "\n",
    "emp_series, first_series, last_series, title_series, salary_series = [], [], [], [], []"
   ]
  },
  {
   "cell_type": "code",
   "execution_count": 3,
   "id": "67b822ee-e954-4fad-a97d-4e899c73f14a",
   "metadata": {},
   "outputs": [],
   "source": [
    "#creating the engine\n",
    "engine = create_engine(f\"{dialect_driver}://{user}:{pw}@{host}:{port}/{default_db}\")"
   ]
  },
  {
   "cell_type": "code",
   "execution_count": 4,
   "id": "38e46dc6-ed23-4baf-8388-9d1a277c742b",
   "metadata": {},
   "outputs": [],
   "source": [
    "#query string\n",
    "sql_query = \"\"\"\n",
    "            SELECT e.emp_no, e.first_name, e.last_name, t.title, s.salary\n",
    "            FROM employees e\n",
    "            LEFT JOIN salaries s\n",
    "                ON e.emp_no = s.emp_no\n",
    "            LEFT JOIN titles t\n",
    "                ON e.emp_title = t.title_id;\n",
    "            \"\"\""
   ]
  },
  {
   "cell_type": "code",
   "execution_count": 5,
   "id": "51f5daa5-965b-4684-b360-84aa0178642e",
   "metadata": {},
   "outputs": [],
   "source": [
    "#accessing database and making lists to add to our dataframe\n",
    "try:\n",
    "    connection = engine.connect()\n",
    "    results = connection.execute(sql_query)\n",
    "    for row in results:\n",
    "        emp_series.append(row.emp_no)\n",
    "        first_series.append(row.first_name)\n",
    "        last_series.append(row.last_name)\n",
    "        title_series.append(row.title)\n",
    "        salary_series.append(row.salary)\n",
    "except Exception as e:\n",
    "    print(\"Error: \", e)\n",
    "finally:\n",
    "    connection.close()\n",
    "    engine.dispose()"
   ]
  },
  {
   "cell_type": "code",
   "execution_count": 6,
   "id": "f1eaa10c-cbf9-4753-9007-8a60c325d86b",
   "metadata": {},
   "outputs": [],
   "source": [
    "#constructing our dataframe\n",
    "df[\"emp_no\"] = emp_series\n",
    "df[\"first_name\"] = first_series\n",
    "df[\"last_name\"] = last_series\n",
    "df[\"title\"] = title_series\n",
    "df[\"salary\"] = salary_series"
   ]
  },
  {
   "cell_type": "code",
   "execution_count": 8,
   "id": "7377607c-66e0-4914-85ed-9949bf9aac0b",
   "metadata": {},
   "outputs": [
    {
     "data": {
      "text/html": [
       "<div>\n",
       "<style scoped>\n",
       "    .dataframe tbody tr th:only-of-type {\n",
       "        vertical-align: middle;\n",
       "    }\n",
       "\n",
       "    .dataframe tbody tr th {\n",
       "        vertical-align: top;\n",
       "    }\n",
       "\n",
       "    .dataframe thead th {\n",
       "        text-align: right;\n",
       "    }\n",
       "</style>\n",
       "<table border=\"1\" class=\"dataframe\">\n",
       "  <thead>\n",
       "    <tr style=\"text-align: right;\">\n",
       "      <th></th>\n",
       "      <th>emp_no</th>\n",
       "      <th>first_name</th>\n",
       "      <th>last_name</th>\n",
       "      <th>title</th>\n",
       "      <th>salary</th>\n",
       "    </tr>\n",
       "  </thead>\n",
       "  <tbody>\n",
       "    <tr>\n",
       "      <th>0</th>\n",
       "      <td>57444</td>\n",
       "      <td>Berry</td>\n",
       "      <td>Babb</td>\n",
       "      <td>Engineer</td>\n",
       "      <td>48973</td>\n",
       "    </tr>\n",
       "    <tr>\n",
       "      <th>1</th>\n",
       "      <td>263976</td>\n",
       "      <td>Eran</td>\n",
       "      <td>Cusworth</td>\n",
       "      <td>Senior Engineer</td>\n",
       "      <td>40000</td>\n",
       "    </tr>\n",
       "    <tr>\n",
       "      <th>2</th>\n",
       "      <td>461591</td>\n",
       "      <td>Xudong</td>\n",
       "      <td>Samarati</td>\n",
       "      <td>Senior Staff</td>\n",
       "      <td>40000</td>\n",
       "    </tr>\n",
       "    <tr>\n",
       "      <th>3</th>\n",
       "      <td>477657</td>\n",
       "      <td>Lihong</td>\n",
       "      <td>Magliocco</td>\n",
       "      <td>Engineer</td>\n",
       "      <td>54816</td>\n",
       "    </tr>\n",
       "    <tr>\n",
       "      <th>4</th>\n",
       "      <td>29920</td>\n",
       "      <td>Shuichi</td>\n",
       "      <td>Tyugu</td>\n",
       "      <td>Engineer</td>\n",
       "      <td>40000</td>\n",
       "    </tr>\n",
       "    <tr>\n",
       "      <th>...</th>\n",
       "      <td>...</td>\n",
       "      <td>...</td>\n",
       "      <td>...</td>\n",
       "      <td>...</td>\n",
       "      <td>...</td>\n",
       "    </tr>\n",
       "    <tr>\n",
       "      <th>300019</th>\n",
       "      <td>81057</td>\n",
       "      <td>Patricio</td>\n",
       "      <td>Pocchiola</td>\n",
       "      <td>Senior Engineer</td>\n",
       "      <td>40000</td>\n",
       "    </tr>\n",
       "    <tr>\n",
       "      <th>300020</th>\n",
       "      <td>464231</td>\n",
       "      <td>Constantino</td>\n",
       "      <td>Eastman</td>\n",
       "      <td>Staff</td>\n",
       "      <td>69696</td>\n",
       "    </tr>\n",
       "    <tr>\n",
       "      <th>300021</th>\n",
       "      <td>76671</td>\n",
       "      <td>Ortrud</td>\n",
       "      <td>Plessier</td>\n",
       "      <td>Staff</td>\n",
       "      <td>61886</td>\n",
       "    </tr>\n",
       "    <tr>\n",
       "      <th>300022</th>\n",
       "      <td>264920</td>\n",
       "      <td>Percy</td>\n",
       "      <td>Samarati</td>\n",
       "      <td>Staff</td>\n",
       "      <td>62772</td>\n",
       "    </tr>\n",
       "    <tr>\n",
       "      <th>300023</th>\n",
       "      <td>464503</td>\n",
       "      <td>Arvind</td>\n",
       "      <td>Slobodova</td>\n",
       "      <td>Senior Staff</td>\n",
       "      <td>41708</td>\n",
       "    </tr>\n",
       "  </tbody>\n",
       "</table>\n",
       "<p>300024 rows × 5 columns</p>\n",
       "</div>"
      ],
      "text/plain": [
       "        emp_no   first_name  last_name            title  salary\n",
       "0        57444        Berry       Babb         Engineer   48973\n",
       "1       263976         Eran   Cusworth  Senior Engineer   40000\n",
       "2       461591       Xudong   Samarati     Senior Staff   40000\n",
       "3       477657       Lihong  Magliocco         Engineer   54816\n",
       "4        29920      Shuichi      Tyugu         Engineer   40000\n",
       "...        ...          ...        ...              ...     ...\n",
       "300019   81057     Patricio  Pocchiola  Senior Engineer   40000\n",
       "300020  464231  Constantino    Eastman            Staff   69696\n",
       "300021   76671       Ortrud   Plessier            Staff   61886\n",
       "300022  264920        Percy   Samarati            Staff   62772\n",
       "300023  464503       Arvind  Slobodova     Senior Staff   41708\n",
       "\n",
       "[300024 rows x 5 columns]"
      ]
     },
     "execution_count": 8,
     "metadata": {},
     "output_type": "execute_result"
    }
   ],
   "source": [
    "df"
   ]
  },
  {
   "cell_type": "code",
   "execution_count": 21,
   "id": "a18fa4d9-7165-48c1-bcc2-b24e68f8080b",
   "metadata": {},
   "outputs": [
    {
     "data": {
      "image/png": "[encoded data removed]",
      "text/plain": [
       "<Figure size 432x288 with 1 Axes>"
      ]
     },
     "metadata": {
      "needs_background": "light"
     },
     "output_type": "display_data"
    }
   ],
   "source": [
    "#histogram\n",
    "bins = [49999, 59999, 69999, 79999, 89999, 99999, 109999, 119999, 129999]\n",
    "\n",
    "plt.hist(salary_series, bins)\n",
    "plt.title(\"Histogram of Salaries\")\n",
    "plt.xlabel(\"Salary\")\n",
    "plt.ylabel(\"Count of Employees\")\n",
    "plt.show()"
   ]
  },
  {
   "cell_type": "code",
   "execution_count": 41,
   "id": "7c25139a-e7b7-4a7b-930e-0e3fe4198b34",
   "metadata": {},
   "outputs": [
    {
     "data": {
      "text/html": [
       "<div>\n",
       "<style scoped>\n",
       "    .dataframe tbody tr th:only-of-type {\n",
       "        vertical-align: middle;\n",
       "    }\n",
       "\n",
       "    .dataframe tbody tr th {\n",
       "        vertical-align: top;\n",
       "    }\n",
       "\n",
       "    .dataframe thead th {\n",
       "        text-align: right;\n",
       "    }\n",
       "</style>\n",
       "<table border=\"1\" class=\"dataframe\">\n",
       "  <thead>\n",
       "    <tr style=\"text-align: right;\">\n",
       "      <th></th>\n",
       "      <th>title</th>\n",
       "      <th>salary</th>\n",
       "    </tr>\n",
       "  </thead>\n",
       "  <tbody>\n",
       "    <tr>\n",
       "      <th>0</th>\n",
       "      <td>Assistant Engineer</td>\n",
       "      <td>48564.434447</td>\n",
       "    </tr>\n",
       "    <tr>\n",
       "      <th>1</th>\n",
       "      <td>Engineer</td>\n",
       "      <td>48535.336511</td>\n",
       "    </tr>\n",
       "    <tr>\n",
       "      <th>2</th>\n",
       "      <td>Manager</td>\n",
       "      <td>51531.041667</td>\n",
       "    </tr>\n",
       "    <tr>\n",
       "      <th>3</th>\n",
       "      <td>Senior Engineer</td>\n",
       "      <td>48506.799871</td>\n",
       "    </tr>\n",
       "    <tr>\n",
       "      <th>4</th>\n",
       "      <td>Senior Staff</td>\n",
       "      <td>58550.172704</td>\n",
       "    </tr>\n",
       "    <tr>\n",
       "      <th>5</th>\n",
       "      <td>Staff</td>\n",
       "      <td>58465.382850</td>\n",
       "    </tr>\n",
       "    <tr>\n",
       "      <th>6</th>\n",
       "      <td>Technique Leader</td>\n",
       "      <td>48582.896092</td>\n",
       "    </tr>\n",
       "  </tbody>\n",
       "</table>\n",
       "</div>"
      ],
      "text/plain": [
       "                title        salary\n",
       "0  Assistant Engineer  48564.434447\n",
       "1            Engineer  48535.336511\n",
       "2             Manager  51531.041667\n",
       "3     Senior Engineer  48506.799871\n",
       "4        Senior Staff  58550.172704\n",
       "5               Staff  58465.382850\n",
       "6    Technique Leader  48582.896092"
      ]
     },
     "execution_count": 41,
     "metadata": {},
     "output_type": "execute_result"
    }
   ],
   "source": [
    "#bar chart\n",
    "average_df = df.groupby(df[\"title\"], as_index = False).mean()\n",
    "average_df[[\"title\", \"salary\"]]"
   ]
  },
  {
   "cell_type": "code",
   "execution_count": 48,
   "id": "4c7a15d2-2e4e-44b1-970f-d6be7e3da6f5",
   "metadata": {},
   "outputs": [
    {
     "data": {
      "image/png": "[encoded data removed]",
      "text/plain": [
       "<Figure size 792x288 with 1 Axes>"
      ]
     },
     "metadata": {
      "needs_background": "light"
     },
     "output_type": "display_data"
    }
   ],
   "source": [
    "plt.figure(figsize = (11,4))\n",
    "plt.bar(average_df[\"title\"], average_df[\"salary\"])\n",
    "plt.xlabel(\"Title\")\n",
    "plt.ylabel(\"Average Salary\")\n",
    "plt.title(\"Average Salary by Title\")\n",
    "plt.show()"
   ]
  },
  {
   "cell_type": "code",
   "execution_count": null,
   "id": "cf1e02e2-cd06-4063-a98b-d3a00de9528c",
   "metadata": {},
   "outputs": [],
   "source": []
  }
 ],
 "metadata": {
  "kernelspec": {
   "display_name": "Python [conda env:PythonData38] *",
   "language": "python",
   "name": "conda-env-PythonData38-py"
  },
  "language_info": {
   "codemirror_mode": {
    "name": "ipython",
    "version": 3
   },
   "file_extension": ".py",
   "mimetype": "text/x-python",
   "name": "python",
   "nbconvert_exporter": "python",
   "pygments_lexer": "ipython3",
   "version": "3.8.13"
  }
 },
 "nbformat": 4,
 "nbformat_minor": 5
}
